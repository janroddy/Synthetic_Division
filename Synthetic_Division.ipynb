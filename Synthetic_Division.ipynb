{
  "nbformat": 4,
  "nbformat_minor": 0,
  "metadata": {
    "kernelspec": {
      "display_name": "Python 3",
      "language": "python",
      "name": "python3"
    },
    "language_info": {
      "codemirror_mode": {
        "name": "ipython",
        "version": 3
      },
      "file_extension": ".py",
      "mimetype": "text/x-python",
      "name": "python",
      "nbconvert_exporter": "python",
      "pygments_lexer": "ipython3",
      "version": "3.7.5"
    },
    "colab": {
      "name": "Synthetic_Division.ipynb",
      "provenance": [],
      "collapsed_sections": [],
      "toc_visible": true
    }
  },
  "cells": [
    {
      "cell_type": "markdown",
      "metadata": {
        "id": "6zIko5Q7jHFq",
        "colab_type": "text"
      },
      "source": [
        "# Synthetic Division\n",
        "\n",
        "---\n",
        "\n",
        "![Synthetic Division graphic](https://drive.google.com/uc?export=view&id=1BJlnjLWDS4MHpr_XQ-EdWOJmDaBghz_f)\n",
        "\n",
        "\n",
        "\n"
      ]
    },
    {
      "cell_type": "markdown",
      "metadata": {
        "id": "1xqFZlszmFcd",
        "colab_type": "text"
      },
      "source": [
        "**Synthetic division** is an algorithmic process to divide polynomials which transfers well to programming. An **algorithm** is a process or set of rules to be followed in calculations or other problem-solving operations and can be thought of as a recipe to solve a problem. \n",
        "\n",
        "\n"
      ]
    },
    {
      "cell_type": "code",
      "metadata": {
        "id": "qBLQl3kFhMjA",
        "colab_type": "code",
        "cellView": "form",
        "colab": {}
      },
      "source": [
        "#@title Video explanation of the Synthetic Division Algorithm that this Module Uses { run: \"auto\" }\n",
        "from IPython.display import HTML\n",
        "HTML('<iframe width=\"1000\" height=\"500\" src=\"https://www.youtube.com/embed/1byR9UEQJN0\" frameborder=\"0\" allow=\"accelerometer; autoplay; encrypted-media; gyroscope; picture-in-picture\" allowfullscreen></iframe>')"
      ],
      "execution_count": null,
      "outputs": []
    },
    {
      "cell_type": "markdown",
      "metadata": {
        "id": "9Ej6sS36X-Hr",
        "colab_type": "text"
      },
      "source": [
        "----\n",
        "\n",
        "## Steps of algorithm for Synthetic Division of a Polynomial:\n",
        "\n",
        "1. To set up the problem, first, set the denominator/divisor equal to zero to find the number to put in the division box.  In other words swap the sign of the constant coefficient in your denominator/divisor.  \n",
        "2. Next, make sure the numerator/dividend is written in descending order and if any coefficients are missing you must use a zero to fill in the missing coefficient, and list only the coefficient in the division problem.\n",
        "3. Once the problem is set up correctly, bring the leading coefficient (first number) straight down.\n",
        "4. Multiply the number in the division box with the number you brought down and put the result in the next column.\n",
        "5. Add the two numbers together and write the result in the bottom of the row.\n",
        "6. Repeat steps 3 and 4 until you reach the end of the problem.\n",
        "7. Write the final answer. The final answer is made up of the numbers in the bottom row with the last number being the remainder and the remainder must be written as a fraction. The variables or x’s start off one power less than the original denominator and go down one with each coefficient.\n",
        "\n",
        "----\n",
        "\n"
      ]
    },
    {
      "cell_type": "markdown",
      "metadata": {
        "id": "jUC-fqRqwEUN",
        "colab_type": "text"
      },
      "source": [
        "----\n",
        "# **Exercise 1:** Use Synthetic Division to solve the following problem\n",
        "\n",
        "# $ \\frac{3x^3 + 4x^2 - 2x - 1} {x + 4}\\ $\n",
        "\n",
        "\n",
        "## Instructions\n",
        "  \n",
        "1. First, try the problem given in exercise 1 on paper, and record your work and answer. Check with a classmate to verify your work or watch the video embedded above for more clarity.\n"
      ]
    },
    {
      "cell_type": "markdown",
      "metadata": {
        "id": "UgKRXKi2wIeG",
        "colab_type": "text"
      },
      "source": [
        "\n",
        "![Synthetic Division graphic](https://drive.google.com/uc?export=view&id=1EeBXtq56sBguWfTpkPJ3mLm9tTrAqBSM)\n"
      ]
    },
    {
      "cell_type": "markdown",
      "metadata": {
        "id": "DgPRLNWyKpDe",
        "colab_type": "text"
      },
      "source": [
        "## **Exercise 1:** Continued \n",
        "1. Take a look at the code cell below to solve the same problem with Python.  \n",
        "2. On line 5 fill in the divisor coefficient as specified by the steps of the algorithm above. The divisor is \"x + 4\", so our divisor will be -4 (divisor_coefficient = -4).\n",
        "3. On lines 9-11  fill in the remaining leading coefficients of the dividend.\n",
        "4. Review the process that you completed after setting up the problem on paper and compare it to line 17 in the code.\n",
        "5. Using line 17 as a reference, solve for the constant_sol_coefficient of line 19.   \n",
        "6. Repeat the process to find the remainder on line 21.\n",
        "7. Run the cell to see if you got the same answer as when you completed the exercise on paper, if not retrace the steps and see if you can ***debug** your code.\n",
        "  \n",
        " ***Debugging** is a routine process of locating and removing computer program bugs, errors or abnormalities.  Every programmer spends a significant amount of time debugging to make programs run the way they are desired."
      ]
    },
    {
      "cell_type": "code",
      "metadata": {
        "id": "E4QFzisdX-Hs",
        "colab_type": "code",
        "colab": {}
      },
      "source": [
        "dividend = \"3x**3 + 4x**2 - 2x - 1\"\n",
        "divisor = \"x + 4\"\n",
        "##Setup\n",
        "#Step 1\n",
        "divisor_coefficient = \n",
        "\n",
        "#Step 2\n",
        "cubic_coefficient = 3\n",
        "quadratic_coefficient = \n",
        "linear_coefficient = \n",
        "constant_coefficient = \n",
        "\n",
        "##Algorithm \n",
        "#Step 3\n",
        "quadratic_sol_coefficient = cubic_coefficient \n",
        "\n",
        "linear_sol_coefficient = quadratic_sol_coefficient * divisor_coefficient + quadratic_coefficient\n",
        "#Step 4\n",
        "constant_sol_coefficient = \n",
        "#Step 5\n",
        "remainder = \n",
        "\n",
        "print (f\"({dividend}) / ({divisor}) = \")\n",
        "print (f\"{quadratic_sol_coefficient}x**2 + {linear_sol_coefficient}x + {constant_sol_coefficient} + ({remainder} / ({divisor})\")"
      ],
      "execution_count": null,
      "outputs": []
    },
    {
      "cell_type": "markdown",
      "metadata": {
        "id": "WB6CUYllX-H0",
        "colab_type": "text"
      },
      "source": [
        "\n",
        "# **Exercise 2:** Using the algorithm to solve a set of problems\n",
        "  \n",
        "Now that we have programmed the synthetic division algorithm we can reuse the code to solve more problems that follow the same constraints. In this case, the constraints are that the dividend is a cubic polynomial and the divisor is linear.\n",
        "\n",
        "## $ \\frac{2x^3 - 5x^2 - 3x + 7} {x - 2}\\ $\n",
        "\n",
        "\n",
        "## Instructions\n",
        "\n",
        "\n",
        "1. Set up the problem by filling in the variables in the code cell below with the values from exercise 2.</li>\n",
        "2. Copy and paste from the algorithm from the last code cell from lines 12-19 on line 12 of the cell below.</li>\n",
        "3. Run the cell and check the answer with a classmate.</li>\n"
      ]
    },
    {
      "cell_type": "code",
      "metadata": {
        "id": "_dl0KKruX-H1",
        "colab_type": "code",
        "cellView": "both",
        "colab": {}
      },
      "source": [
        "dividend = \"2x**3 - 5x**2 + 3x + 7\"\n",
        "divisor = \"x - 2\"\n",
        "##Setup\n",
        "divisor_coefficient = \n",
        "\n",
        "cubic_coefficient = \n",
        "quadratic_coefficient = \n",
        "linear_coefficient = \n",
        "constant_coefficient = \n",
        "\n",
        "\n",
        "\n",
        "\n",
        "\n",
        "\n",
        "\n",
        "\n",
        "\n",
        "\n",
        "\n",
        "print (f\"({dividend}) / ({divisor}) = \")\n",
        "print (f\"({quadratic_sol_coefficient}x**2 + {linear_sol_coefficient}x + {constant_sol_coefficient} + ({remainder} / ({divisor}))\")"
      ],
      "execution_count": null,
      "outputs": []
    },
    {
      "cell_type": "markdown",
      "metadata": {
        "id": "AnE0EuzojX6W",
        "colab_type": "text"
      },
      "source": [
        "\n",
        "# **Exercise 3:** Using the algorithm to solve a set of problems\n",
        "  \n",
        "Now that you understand the code better see if you can finish the code below to solve the problem below.    \n",
        "\n",
        "## $ \\frac{5x^3 + 7x^2 - 34x - 1} {x - 5}\\ $\n",
        "\n",
        "\n",
        "## Instructions\n",
        "\n",
        "\n",
        "1. Use the algorithm you coded in the previous exercises to solve the problem above. Remember you can copy and paste from the last exercise to save time, but be careful to make any changes necessary to solve the problem.   \n"
      ]
    },
    {
      "cell_type": "code",
      "metadata": {
        "id": "8JWNR2_ll1Nl",
        "colab_type": "code",
        "colab": {}
      },
      "source": [
        "dividend = \"5x**3 + 7x**2 - 34x - 1\"\n",
        "divisor = \"x - 5\"\n",
        "##Setup\n",
        "divisor_coefficient = \n",
        "\n",
        "cubic_coefficient = \n",
        "quadratic_coefficient = \n",
        "linear_coefficient = \n",
        "constant_coefficient =\n",
        "\n",
        "\n",
        "\n",
        "\n",
        "\n",
        "\n",
        "print (f\"({dividend}) / ({divisor}) = \")\n",
        "print (f\"({quadratic_sol_coefficient}x**2 + {linear_sol_coefficient}x + {constant_sol_coefficient} + ({remainder} / ({divisor}))\")"
      ],
      "execution_count": null,
      "outputs": []
    }
  ]
}